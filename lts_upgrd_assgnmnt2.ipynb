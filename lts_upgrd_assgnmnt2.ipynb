{
  "nbformat": 4,
  "nbformat_minor": 0,
  "metadata": {
    "colab": {
      "name": "lts upgrd assgnmnt2",
      "provenance": [],
      "collapsed_sections": [],
      "authorship_tag": "ABX9TyM3d/eEdvstv3Iq4QraTpUH",
      "include_colab_link": true
    },
    "kernelspec": {
      "name": "python3",
      "display_name": "Python 3"
    }
  },
  "cells": [
    {
      "cell_type": "markdown",
      "metadata": {
        "id": "view-in-github",
        "colab_type": "text"
      },
      "source": [
        "<a href=\"https://colab.research.google.com/github/Divya-95/lts-upgrd-assgnmnt2/blob/master/lts_upgrd_assgnmnt2.ipynb\" target=\"_parent\"><img src=\"https://colab.research.google.com/assets/colab-badge.svg\" alt=\"Open In Colab\"/></a>"
      ]
    },
    {
      "cell_type": "code",
      "metadata": {
        "id": "6jgg2_Ff7VoJ",
        "colab_type": "code",
        "colab": {
          "base_uri": "https://localhost:8080/",
          "height": 55
        },
        "outputId": "1c3cb856-706f-465b-ba57-3e3ad5f200d6"
      },
      "source": [
        "#List and its default functions\n",
        "List = ['apple', 'orange', 1888, 2020] \n",
        "# Insert at index 2 value 10087 \n",
        " \n",
        "List.insert(3,'abc')      \n",
        " \n",
        "List"
      ],
      "execution_count": null,
      "outputs": [
        {
          "output_type": "execute_result",
          "data": {
            "text/plain": [
              "['apple', 'orange', 1888, 'abc', 2020]"
            ]
          },
          "metadata": {
            "tags": []
          },
          "execution_count": 20
        }
      ]
    },
    {
      "cell_type": "code",
      "metadata": {
        "id": "Ks0DBZoU61gd",
        "colab_type": "code",
        "colab": {
          "base_uri": "https://localhost:8080/",
          "height": 55
        },
        "outputId": "18aec8cd-421a-4141-df9b-fb4a9fe68e59"
      },
      "source": [
        "\n",
        "List = ['apple', 'orange', 1888, 2020] \n",
        " \n",
        "List.append(856744) \n",
        " \n",
        "List"
      ],
      "execution_count": null,
      "outputs": [
        {
          "output_type": "execute_result",
          "data": {
            "text/plain": [
              "['apple', 'orange', 1888, 2020, 856744]"
            ]
          },
          "metadata": {
            "tags": []
          },
          "execution_count": 19
        }
      ]
    },
    {
      "cell_type": "code",
      "metadata": {
        "id": "ak3FUO7g8LqC",
        "colab_type": "code",
        "colab": {
          "base_uri": "https://localhost:8080/",
          "height": 55
        },
        "outputId": "2b6ee2a6-39a4-4b97-ab57-2e5d96a9730f"
      },
      "source": [
        " \n",
        "List1 = [1, 2, 3] \n",
        " \n",
        "List2 = [2, 3, 4, 5] \n",
        " \n",
        "  \n",
        "# Add List2 to List1 \n",
        "List1.extend(List2)         \n",
        " \n",
        "(List1) \n",
        " \n",
        "  \n",
        "# Add List1 to List2 now \n",
        "List2.extend(List1)  \n",
        " \n",
        "(List2)"
      ],
      "execution_count": null,
      "outputs": [
        {
          "output_type": "execute_result",
          "data": {
            "text/plain": [
              "[2, 3, 4, 5, 1, 2, 3, 2, 3, 4, 5]"
            ]
          },
          "metadata": {
            "tags": []
          },
          "execution_count": 9
        }
      ]
    },
    {
      "cell_type": "code",
      "metadata": {
        "id": "yw6hL0FN8lFG",
        "colab_type": "code",
        "colab": {
          "base_uri": "https://localhost:8080/",
          "height": 35
        },
        "outputId": "ec75b627-ac5a-40d3-9c61-2967e2966dff"
      },
      "source": [
        " \n",
        "List = [63, 85, 35, 47, 79] \n",
        " \n",
        "sum(List)"
      ],
      "execution_count": null,
      "outputs": [
        {
          "output_type": "execute_result",
          "data": {
            "text/plain": [
              "309"
            ]
          },
          "metadata": {
            "tags": []
          },
          "execution_count": 18
        }
      ]
    },
    {
      "cell_type": "code",
      "metadata": {
        "id": "uOoWcdH49CLO",
        "colab_type": "code",
        "colab": {
          "base_uri": "https://localhost:8080/",
          "height": 35
        },
        "outputId": "a4897d02-6ede-4dfa-b236-a66087fbba05"
      },
      "source": [
        " \n",
        "List = [41, 27, 34, 41, 52, 41, 29, 93, 62, 41] \n",
        " \n",
        "List.count(41)"
      ],
      "execution_count": null,
      "outputs": [
        {
          "output_type": "execute_result",
          "data": {
            "text/plain": [
              "4"
            ]
          },
          "metadata": {
            "tags": []
          },
          "execution_count": 16
        }
      ]
    },
    {
      "cell_type": "code",
      "metadata": {
        "id": "CDZxgN6e-bqm",
        "colab_type": "code",
        "colab": {}
      },
      "source": [
        "#Dictionary and its default functions"
      ],
      "execution_count": null,
      "outputs": []
    },
    {
      "cell_type": "code",
      "metadata": {
        "id": "tAk1B3Q5-jmb",
        "colab_type": "code",
        "colab": {
          "base_uri": "https://localhost:8080/",
          "height": 35
        },
        "outputId": "6a715a13-a90c-463d-ee4f-550e8c395304"
      },
      "source": [
        " # random sales dictionary\n",
        "sales = { 'apple': 100, 'orange': 50, 'grapes': 60 }\n",
        " \n",
        "sales.values()"
      ],
      "execution_count": null,
      "outputs": [
        {
          "output_type": "execute_result",
          "data": {
            "text/plain": [
              "dict_values([100, 50, 60])"
            ]
          },
          "metadata": {
            "tags": []
          },
          "execution_count": 30
        }
      ]
    },
    {
      "cell_type": "code",
      "metadata": {
        "id": "xlSEFLKvBHc7",
        "colab_type": "code",
        "colab": {
          "base_uri": "https://localhost:8080/",
          "height": 72
        },
        "outputId": "2925627c-1a0f-4a97-a9bc-b68058cba77c"
      },
      "source": [
        " # random sales dictionary \n",
        " sales = { 'apple': 100, 'orange': 50, 'grapes': 60 }\n",
        " \n",
        "element = sales.pop('orange')\n",
        "print('The popped element is:', element)\n",
        "print('The dictionary is:', sales)"
      ],
      "execution_count": 1,
      "outputs": [
        {
          "output_type": "stream",
          "text": [
            "The popped element is: 50\n",
            "The dictionary is: {'apple': 100, 'grapes': 60}\n"
          ],
          "name": "stdout"
        }
      ]
    },
    {
      "cell_type": "code",
      "metadata": {
        "id": "ulBQpchRDkMe",
        "colab_type": "code",
        "colab": {
          "base_uri": "https://localhost:8080/",
          "height": 55
        },
        "outputId": "982bc11f-7bb0-415b-c9a3-3e10ffe5c3a0"
      },
      "source": [
        " person = {'name': 'Phill', 'age': 22, 'salary': 3500.0}\n",
        "person.keys()"
      ],
      "execution_count": null,
      "outputs": [
        {
          "output_type": "execute_result",
          "data": {
            "text/plain": [
              "dict_keys(['name', 'age', 'salary'])"
            ]
          },
          "metadata": {
            "tags": []
          },
          "execution_count": 39
        }
      ]
    },
    {
      "cell_type": "code",
      "metadata": {
        "id": "KlrBbQpPECGw",
        "colab_type": "code",
        "colab": {
          "base_uri": "https://localhost:8080/",
          "height": 36
        },
        "outputId": "b0b19413-f23e-4e8c-cbb0-27a65b29bec8"
      },
      "source": [
        " person = {'name': 'abc', 'age': 22}\n",
        " \n",
        "person.get('name')"
      ],
      "execution_count": null,
      "outputs": [
        {
          "output_type": "execute_result",
          "data": {
            "application/vnd.google.colaboratory.intrinsic+json": {
              "type": "string"
            },
            "text/plain": [
              "'abc'"
            ]
          },
          "metadata": {
            "tags": []
          },
          "execution_count": 41
        }
      ]
    },
    {
      "cell_type": "code",
      "metadata": {
        "id": "WObdzeepEvbE",
        "colab_type": "code",
        "colab": {
          "base_uri": "https://localhost:8080/",
          "height": 55
        },
        "outputId": "bde55187-66e2-4c50-b2ae-c39b5ba7eb9d"
      },
      "source": [
        " # random sales dictionary\n",
        "sales = { 'apple': 100, 'orange': 50, 'grapes': 60 }\n",
        " \n",
        "sales.items()"
      ],
      "execution_count": null,
      "outputs": [
        {
          "output_type": "execute_result",
          "data": {
            "text/plain": [
              "dict_items([('apple', 100), ('orange', 50), ('grapes', 60)])"
            ]
          },
          "metadata": {
            "tags": []
          },
          "execution_count": 42
        }
      ]
    },
    {
      "cell_type": "code",
      "metadata": {
        "id": "iYPFee_oFMxw",
        "colab_type": "code",
        "colab": {
          "base_uri": "https://localhost:8080/",
          "height": 35
        },
        "outputId": "31d86985-9af6-442b-92b3-d3002675e872"
      },
      "source": [
        "#sets & its default functions\n",
        "# set of vowels\n",
        "vowels = {'a', 'e', 'i', 'u'}\n",
        " \n",
        "# adding 'o'\n",
        "vowels.add('o')\n",
        "vowels"
      ],
      "execution_count": null,
      "outputs": [
        {
          "output_type": "execute_result",
          "data": {
            "text/plain": [
              "{'a', 'e', 'i', 'o', 'u'}"
            ]
          },
          "metadata": {
            "tags": []
          },
          "execution_count": 46
        }
      ]
    },
    {
      "cell_type": "code",
      "metadata": {
        "id": "fk6WWdwFG97r",
        "colab_type": "code",
        "colab": {
          "base_uri": "https://localhost:8080/",
          "height": 35
        },
        "outputId": "427dd55f-7cda-4615-f3c1-2501248a3ba7"
      },
      "source": [
        " A = {2, 3, 5, 4}\n",
        "B = {2, 5, 100}\n",
        "C = {2, 3, 8, 9, 10}\n",
        " \n",
        "print(B.intersection(A))"
      ],
      "execution_count": null,
      "outputs": [
        {
          "output_type": "stream",
          "text": [
            "{2, 5}\n"
          ],
          "name": "stdout"
        }
      ]
    },
    {
      "cell_type": "code",
      "metadata": {
        "id": "eLTW6RMvHGQ9",
        "colab_type": "code",
        "colab": {
          "base_uri": "https://localhost:8080/",
          "height": 35
        },
        "outputId": "10d3b842-2ed1-4f03-a171-d0c436e27531"
      },
      "source": [
        " A = {1, 2, 3, 4}\n",
        "B = {5, 6, 7}\n",
        "C = {4, 5, 6}\n",
        "A.isdisjoint(B)"
      ],
      "execution_count": null,
      "outputs": [
        {
          "output_type": "execute_result",
          "data": {
            "text/plain": [
              "True"
            ]
          },
          "metadata": {
            "tags": []
          },
          "execution_count": 50
        }
      ]
    },
    {
      "cell_type": "code",
      "metadata": {
        "id": "5H0qveehHyO1",
        "colab_type": "code",
        "colab": {
          "base_uri": "https://localhost:8080/",
          "height": 35
        },
        "outputId": "c6eceb49-b9e2-4031-f6f5-a378984b8892"
      },
      "source": [
        " A = {1, 2, 3}\n",
        "B = {1, 2, 3, 4, 5}\n",
        "C = {1, 2, 4, 5}\n",
        " \n",
        "# Returns True\n",
        "A.issubset(B)"
      ],
      "execution_count": null,
      "outputs": [
        {
          "output_type": "execute_result",
          "data": {
            "text/plain": [
              "True"
            ]
          },
          "metadata": {
            "tags": []
          },
          "execution_count": 51
        }
      ]
    },
    {
      "cell_type": "code",
      "metadata": {
        "id": "L2lzKy1mH__1",
        "colab_type": "code",
        "colab": {
          "base_uri": "https://localhost:8080/",
          "height": 35
        },
        "outputId": "d7ddadc3-5c97-4462-c6be-60ac45ea9d44"
      },
      "source": [
        " A = {'a', 'c', 'd'}\n",
        "B = {'c', 'd', 2 }\n",
        "C = {1, 2, 3}\n",
        "A.union(B)"
      ],
      "execution_count": null,
      "outputs": [
        {
          "output_type": "execute_result",
          "data": {
            "text/plain": [
              "{2, 'a', 'c', 'd'}"
            ]
          },
          "metadata": {
            "tags": []
          },
          "execution_count": 54
        }
      ]
    },
    {
      "cell_type": "code",
      "metadata": {
        "id": "ze0GqddqIliq",
        "colab_type": "code",
        "colab": {
          "base_uri": "https://localhost:8080/",
          "height": 52
        },
        "outputId": "8a825dd6-8767-4562-98ca-33fd8a32f0ff"
      },
      "source": [
        "#Tuple & default methods\n",
        "# vowels tuple\n",
        "vowels = ('a', 'e', 'i', 'o', 'i', 'u')\n",
        " \n",
        "# count element 'i'\n",
        "count=vowels.count('i')\n",
        " \n",
        "#print count\n",
        "print('The count of i is:', count)\n",
        " \n",
        "# count element 'p'\n",
        "count = vowels.count('p')\n",
        " \n",
        "# print count\n",
        "print('The count of p is:', count)"
      ],
      "execution_count": null,
      "outputs": [
        {
          "output_type": "stream",
          "text": [
            "The count of i is: 2\n",
            "The count of p is: 0\n"
          ],
          "name": "stdout"
        }
      ]
    },
    {
      "cell_type": "code",
      "metadata": {
        "id": "_FDOWStOKRSo",
        "colab_type": "code",
        "colab": {
          "base_uri": "https://localhost:8080/",
          "height": 52
        },
        "outputId": "79fb201a-04ef-4a0c-f835-f82fc93317f3"
      },
      "source": [
        " # vowels tuple\n",
        "vowels = ('a', 'e', 'i', 'o', 'i', 'u')\n",
        " \n",
        "# index of 'e' in vowels\n",
        "index = vowels.index('e')\n",
        "print('The index of e:', index)\n",
        " \n",
        "# element 'i' is searched\n",
        "# index of the first 'i' is returned\n",
        "index = vowels.index('i')\n",
        " \n",
        "print('The index of i:', index)"
      ],
      "execution_count": null,
      "outputs": [
        {
          "output_type": "stream",
          "text": [
            "The index of e: 1\n",
            "The index of i: 2\n"
          ],
          "name": "stdout"
        }
      ]
    },
    {
      "cell_type": "code",
      "metadata": {
        "id": "ZKcOD8C_KeHv",
        "colab_type": "code",
        "colab": {
          "base_uri": "https://localhost:8080/",
          "height": 55
        },
        "outputId": "89b8fd4d-cf3a-41d0-af19-6dedc6670031"
      },
      "source": [
        "#string & default methods\n",
        "string = \"PYTHON IS AWESOME\"\n",
        " \n",
        "# print lowercase string\n",
        "print(\"Lowercase string:\", string.casefold())"
      ],
      "execution_count": null,
      "outputs": [
        {
          "output_type": "stream",
          "text": [
            "Lowercase string: python is awesome\n"
          ],
          "name": "stdout"
        }
      ]
    },
    {
      "cell_type": "code",
      "metadata": {
        "id": "65He_NwsLAgq",
        "colab_type": "code",
        "colab": {
          "base_uri": "https://localhost:8080/",
          "height": 35
        },
        "outputId": "ca3d9d8e-503c-462a-d0b6-59a50b740de7"
      },
      "source": [
        " # define string\n",
        "string = \"Python is awesome, isn't it?\"\n",
        "substring = \"is\"\n",
        " \n",
        "count = string.count(substring)\n",
        " \n",
        "# print count\n",
        "print(\"The count is:\", count)"
      ],
      "execution_count": null,
      "outputs": [
        {
          "output_type": "stream",
          "text": [
            "The count is: 2\n"
          ],
          "name": "stdout"
        }
      ]
    },
    {
      "cell_type": "code",
      "metadata": {
        "id": "N1uh_ZapLPcG",
        "colab_type": "code",
        "colab": {
          "base_uri": "https://localhost:8080/",
          "height": 35
        },
        "outputId": "d71496c8-c41d-44f3-a889-bba6623419b7"
      },
      "source": [
        " str = 'xyz\\t12345\\tabc'\n",
        " \n",
        "# no argument is passed\n",
        "# default tabsize is 8\n",
        "result = str.expandtabs()\n",
        " \n",
        "print(result)"
      ],
      "execution_count": null,
      "outputs": [
        {
          "output_type": "stream",
          "text": [
            "xyz     12345   abc\n"
          ],
          "name": "stdout"
        }
      ]
    },
    {
      "cell_type": "code",
      "metadata": {
        "id": "WTrzD2YFL5Os",
        "colab_type": "code",
        "colab": {
          "base_uri": "https://localhost:8080/",
          "height": 52
        },
        "outputId": "da89c919-0e9a-4c49-e618-26a9ad355253"
      },
      "source": [
        " # example string\n",
        "string = \"THIS SHOULD BE LOWERCASE!\"\n",
        "print(string.lower())\n",
        " \n",
        "# string with numbers\n",
        "# all alphabets whould be lowercase\n",
        "string = \"Th!s Sh0uLd B3 L0w3rCas3!\"\n",
        "print(string.lower())"
      ],
      "execution_count": null,
      "outputs": [
        {
          "output_type": "stream",
          "text": [
            "this should be lowercase!\n",
            "th!s sh0uld b3 l0w3rcas3!\n"
          ],
          "name": "stdout"
        }
      ]
    },
    {
      "cell_type": "code",
      "metadata": {
        "id": "61WXc0a1MBz-",
        "colab_type": "code",
        "colab": {
          "base_uri": "https://localhost:8080/",
          "height": 35
        },
        "outputId": "b30f22c8-6eff-4cca-cb9c-943f1d53d79a"
      },
      "source": [
        " text= ' Hii Hello !!'\n",
        " \n",
        "# splits at space\n",
        "print(text.split())"
      ],
      "execution_count": null,
      "outputs": [
        {
          "output_type": "stream",
          "text": [
            "['Hii', 'Hello', '!!']\n"
          ],
          "name": "stdout"
        }
      ]
    }
  ]
}